{
 "cells": [
  {
   "cell_type": "markdown",
   "metadata": {},
   "source": [
    "### Area de un poligono\n",
    "\n",
    "Crea una única función (importante que sólo sea una) que sea capaz de:\n",
    "\n",
    "* calcular y retornar el área de un poligono.\n",
    "\n",
    "* La función recibirá por parámetro sólo UN polígono a la vez.\n",
    "* Los polígonos soportados serán Triángulo, Cuadrado y Rectángulo.\n",
    "Imprime el cálculo del área de un polígono de cada tipo.\n"
   ]
  },
  {
   "cell_type": "code",
   "execution_count": null,
   "metadata": {},
   "outputs": [
    {
     "name": "stdout",
     "output_type": "stream",
     "text": [
      "el area del poligono cuadrado es:  16\n",
      "el valor del area del triangulo es:  15.0\n",
      "el area del rectangulo es:  64\n"
     ]
    }
   ],
   "source": [
    "# Aquí se iniciamos la funcion.\n",
    "def area_poligono():\n",
    "    \n",
    "# Poligono Cuadrado.\n",
    "# En esta sección del codigo, empezamos solicitando al usuario los valor de 'el lado'.\n",
    "    lado=int(input(\"ingrese el lado del cuadrado: \"))\n",
    "# Aquí se uso la expresión 'lado*lado', y no 'lado**2', debido a la probabilidad de un error emergente mientras se realiza la opración.\n",
    "    area= lado*lado\n",
    "#  Y es así como imprimos el valor en pantalla.\n",
    "    print(\"el area del poligono cuadrado es: \", area)\n",
    "\n",
    "# Poligono triangulo.\n",
    "# En esta parte del codigo, iniciamos pidiendo al usuario los valores de 'la base y la altura' mediante el comando 'int(input(_))'.\n",
    "    base=int(input(\"ingresa la base del triangulo: \"))\n",
    "    altura=int(input(\"ingresa la altura del triangulo: \"))\n",
    "# y aquí podemos es donde se realiza la multiplicación, y después la división entre '2'.\n",
    "    triangulo=base*altura/2\n",
    "# Y por ultimo imprimos el resultado.\n",
    "    print(\"el valor del area del triangulo es: \", triangulo)\n",
    "    \n",
    "# Poligono Rectangulo\n",
    "# En este sector del codigo, se inicia solicitando un los valores de las variables 'la base y la altura'.\n",
    "    baseR=int(input(\"ingresa la base del rectangulo: \"))\n",
    "    alturaR=int(input(\"ingresa la altura del rectangulo: \"))\n",
    "# Aquí multiplicamos los valores de las variables 'baseR y alturaR'.\n",
    "    rectangulo=baseR*alturaR\n",
    "# Y por ultimo imprimimos el resultado.\n",
    "    print(\"el area del rectangulo es: \", rectangulo)\n",
    "# y de esta manera se resuelvio el problema.\n",
    "area_poligono()"
   ]
  },
  {
   "cell_type": "markdown",
   "metadata": {},
   "source": [
    "### Invertir caracteres\n",
    "\n",
    "Crea un programa que invierta el orden de una cadena de texto\n",
    "\n",
    "* sin usar funciones propias del lenguaje que lo hagan de forma automática.\n",
    "\n",
    "* Si le pasamos \"Hola mundo\" nos retornaria \"odnum aloH\""
   ]
  },
  {
   "cell_type": "code",
   "execution_count": 15,
   "metadata": {},
   "outputs": [
    {
     "name": "stdout",
     "output_type": "stream",
     "text": [
      "  ¡odnum aloH!\n"
     ]
    }
   ],
   "source": [
    "# Aquí solicitamos al usurario que ingrese una frase o palabra.\n",
    "text=\"!Hola mundo¡\"\n",
    "\n",
    "# En esta linia del codigo, es donde ocurre la opersación o el proceso en el cual, el caracter ingresado se invierte.\n",
    "# El comando \"text[::-1]\", funciona como 'la operacion' para invertir el caracter que se almaceno en la variable 'text', y el resultado se almacena en la variable 'invest_text'.\n",
    "invest_text=text[::-1]\n",
    "\n",
    "# Y de esta manera imprimimos el valor en pantalla.\n",
    "print(\" \", invest_text)"
   ]
  },
  {
   "cell_type": "markdown",
   "metadata": {},
   "source": [
    "### Eliminando caracteres\n",
    "\n",
    "Crea una función que reciba dos cadenas como parámetro (str1, str2) e imprima otras dos cadenas como salida (outl, out2).\n",
    "\n",
    "* outl contendrá todos los caracteres presentes en la strl pero NO estén presentes en str2.\n",
    "\n",
    "* out:2 contendrá todos los caracteres presentes en la str2 pero NO estén presentes en strl."
   ]
  }
 ],
 "metadata": {
  "kernelspec": {
   "display_name": "Python 3",
   "language": "python",
   "name": "python3"
  },
  "language_info": {
   "codemirror_mode": {
    "name": "ipython",
    "version": 3
   },
   "file_extension": ".py",
   "mimetype": "text/x-python",
   "name": "python",
   "nbconvert_exporter": "python",
   "pygments_lexer": "ipython3",
   "version": "3.13.0"
  }
 },
 "nbformat": 4,
 "nbformat_minor": 2
}
